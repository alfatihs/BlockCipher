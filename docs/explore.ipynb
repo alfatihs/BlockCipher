{
 "cells": [
  {
   "cell_type": "code",
   "execution_count": 1,
   "metadata": {},
   "outputs": [],
   "source": [
    "import numpy as np"
   ]
  },
  {
   "cell_type": "markdown",
   "metadata": {},
   "source": [
    "## Creating Subsitution Matrix"
   ]
  },
  {
   "cell_type": "code",
   "execution_count": 2,
   "metadata": {},
   "outputs": [
    {
     "data": {
      "text/plain": [
       "array([ 66,  72, 138,  77, 195,  59,  73,  93,   3,  20, 143, 187,  48,\n",
       "         4, 106, 205,  81, 141,  55, 133, 176, 127, 116, 226,  89, 135,\n",
       "        95,  64,  29, 102,  18,  98,  58, 186, 151,   7,  85,  80,  31,\n",
       "       104, 243,  13,  94,  83, 139, 228,   2,  92, 223, 161, 134, 103,\n",
       "        49, 156,  87, 107,  44, 180,  28,  14,   1,  17, 219,  90, 252,\n",
       "       208,  62, 125, 211, 192,  56, 188, 193, 241,  97, 144,  15, 229,\n",
       "       222, 232, 160, 146, 128,  91,  22, 198, 206,  96, 110, 247, 238,\n",
       "       212,  39,  67, 158, 137, 249, 136, 170,  27, 153, 159, 175,  24,\n",
       "        61, 148, 233, 105,  42, 167, 202, 203,  11,  86,  68, 113, 237,\n",
       "       100, 248, 162, 168, 179, 149,  19, 194,  84,   8, 122, 184,  12,\n",
       "       224, 108, 204,  40, 225,  53, 197,   5, 221, 173, 130, 155,  50,\n",
       "       118, 129, 112,  65, 101, 216,  23,  32, 131, 199, 239, 124, 178,\n",
       "        38, 150, 245, 183,  63,  25, 142,  57,  37, 157,  47, 190, 200,\n",
       "         0, 209, 120,   6, 169, 231, 172, 109, 152,  21,  46,  10, 147,\n",
       "        26, 253, 207, 240,  88, 213, 154, 166, 196, 181, 246, 121, 251,\n",
       "        78, 164,  76, 230, 220, 140, 115, 215,  30, 234,  36,  69, 235,\n",
       "       189,  16,  52, 145, 191, 119, 171, 117,  35, 114, 185,  54,  60,\n",
       "       111, 227, 214,  82,  74, 163,  75,  79, 126,  51,  43, 250,  99,\n",
       "        34, 217, 254, 201,  45, 244, 210,  33, 255,   9, 182, 177,  41,\n",
       "       174, 123, 132, 165,  70,  71, 218, 242, 236], dtype=uint8)"
      ]
     },
     "execution_count": 2,
     "metadata": {},
     "output_type": "execute_result"
    }
   ],
   "source": [
    "sbox = np.array([i for i in range(256)], dtype=np.uint8)\n",
    "np.random.shuffle(sbox)\n",
    "sbox"
   ]
  },
  {
   "cell_type": "code",
   "execution_count": 3,
   "metadata": {},
   "outputs": [],
   "source": [
    "sbox_inv = np.zeros(256, dtype=np.uint8)\n",
    "for i in range(256):\n",
    "    sbox_inv[sbox[i]] = i"
   ]
  },
  {
   "cell_type": "code",
   "execution_count": 4,
   "metadata": {},
   "outputs": [
    {
     "data": {
      "text/plain": [
       "array([169,  60,  46,   8,  13, 137, 172,  35, 126, 243, 180, 112, 129,\n",
       "        41,  59,  76, 209,  61,  30, 123,   9, 178,  84, 149, 103, 161,\n",
       "       182,  99,  58,  28, 203,  38, 150, 241, 234, 216, 205, 164, 156,\n",
       "        92, 133, 246, 108, 231,  56, 238, 179, 166,  12,  52, 142, 230,\n",
       "       210, 135, 219,  18,  70, 163,  32,   5, 220, 104,  66, 160,  27,\n",
       "       146,   0,  93, 114, 206, 251, 252,   1,   6, 225, 227, 197,   3,\n",
       "       195, 228,  37,  16, 224,  43, 125,  36, 113,  54, 186,  24,  63,\n",
       "        83,  47,   7,  42,  26,  87,  74,  31, 233, 117, 147,  29,  51,\n",
       "        39, 107,  14,  55, 131, 176,  88, 221, 145, 115, 217, 201,  22,\n",
       "       215, 143, 213, 171, 193, 127, 248, 154,  67, 229,  21,  82, 144,\n",
       "       140, 151, 249,  19,  50,  25,  97,  95,   2,  44, 200,  17, 162,\n",
       "        10,  75, 211,  81, 181, 105, 122, 157,  34, 177, 100, 188, 141,\n",
       "        53, 165,  94, 101,  80,  49, 119, 226, 196, 250, 189, 109, 120,\n",
       "       173,  98, 214, 175, 139, 247, 102,  20, 245, 155, 121,  57, 191,\n",
       "       244, 159, 128, 218,  33,  11,  71, 208, 167, 212,  69,  72, 124,\n",
       "         4, 190, 136,  85, 152, 168, 237, 110, 111, 132,  15,  86, 184,\n",
       "        65, 170, 240,  68,  91, 187, 223, 202, 148, 235, 253,  62, 199,\n",
       "       138,  78,  48, 130, 134,  23, 222,  45,  77, 198, 174,  79, 106,\n",
       "       204, 207, 255, 116,  90, 153, 185,  73, 254,  40, 239, 158, 192,\n",
       "        89, 118,  96, 232, 194,  64, 183, 236, 242], dtype=uint8)"
      ]
     },
     "execution_count": 4,
     "metadata": {},
     "output_type": "execute_result"
    }
   ],
   "source": [
    "sbox_inv"
   ]
  },
  {
   "cell_type": "markdown",
   "metadata": {},
   "source": [
    "## Creating Permutation Matrix"
   ]
  },
  {
   "cell_type": "code",
   "execution_count": 5,
   "metadata": {},
   "outputs": [
    {
     "data": {
      "text/plain": [
       "array([ 67,  73,  56,   8,  13,  65,  21,  18,  12, 127,  92,  69, 100,\n",
       "        53,  86, 116, 122,  88,  24,  30,  47,  43, 103,  82,  98,  99,\n",
       "       104,  36,  46,  87, 120,  94,  68, 118,  22,  49,  35,  44,  77,\n",
       "        57,  17, 112,  55,  62, 123,  97,  25,  20,  71, 117,  93,  83,\n",
       "        16,  59, 113,  32, 110,  26,  60,  11, 119,  51,  63,  91,  45,\n",
       "        39,  76,  95, 109,  89, 101, 121, 107, 114,   6,  15,  66,  78,\n",
       "        72,  50,  48,  38,  31, 105,   4,  52,   9,  14,  19,  70,   2,\n",
       "        27,  96,   5,   3,   0,  75,  29,  80,  42,  79,   7,  61,  74,\n",
       "       111, 115,  34,  84, 106,   1,  33, 108, 102, 125,  23,  58,  85,\n",
       "        28,  37,  81,  54, 124,  40,  10,  41,  90, 126,  64], dtype=uint8)"
      ]
     },
     "execution_count": 5,
     "metadata": {},
     "output_type": "execute_result"
    }
   ],
   "source": [
    "pbox1 = np.array([i for i in range(128)], dtype=np.uint8)\n",
    "np.random.shuffle(pbox1)\n",
    "pbox1"
   ]
  },
  {
   "cell_type": "code",
   "execution_count": 6,
   "metadata": {},
   "outputs": [
    {
     "data": {
      "text/plain": [
       "array([ 95, 109,  90,  94,  84,  93,  74, 101,   3,  86, 123,  59,   8,\n",
       "         4,  87,  75,  52,  40,   7,  88,  47,   6,  34, 114,  18,  46,\n",
       "        57,  91, 117,  97,  19,  82,  55, 110, 106,  36,  27, 118,  81,\n",
       "        65, 122, 124,  99,  21,  37,  64,  28,  20,  80,  35,  79,  61,\n",
       "        85,  13, 120,  42,   2,  39, 115,  53,  58, 102,  43,  62, 127,\n",
       "         5,  76,   0,  32,  11,  89,  48,  78,   1, 103,  96,  66,  38,\n",
       "        77, 100,  98, 119,  23,  51, 107, 116,  14,  29,  17,  69, 125,\n",
       "        63,  10,  50,  31,  67,  92,  45,  24,  25,  12,  70, 112,  22,\n",
       "        26,  83, 108,  72, 111,  68,  56, 104,  41,  54,  73, 105,  15,\n",
       "        49,  33,  60,  30,  71,  16,  44, 121, 113, 126,   9], dtype=uint8)"
      ]
     },
     "execution_count": 6,
     "metadata": {},
     "output_type": "execute_result"
    }
   ],
   "source": [
    "pbox1_inv = np.zeros(128, dtype=np.uint8)\n",
    "for i in range(128):\n",
    "    pbox1_inv[pbox1[i]] = i\n",
    "pbox1_inv"
   ]
  },
  {
   "cell_type": "code",
   "execution_count": 7,
   "metadata": {},
   "outputs": [
    {
     "data": {
      "text/plain": [
       "array([ 68,  42,  95,  28, 117,  55,  30, 115,  78,  38,  86, 123, 103,\n",
       "        13, 113,  74, 116,  10,  71,  79,   7,  93,  26, 109,  37,   5,\n",
       "        58,  39,  70, 112, 118,  87,  41,  80,  17,  61,  35, 127,  73,\n",
       "         0,   9, 106,  40,  65,  48,  53,   2, 114,  66,  59,  64,  92,\n",
       "         8,  45,  23,  22,  18,  75,  63, 126,  97,  15,  72,  50,  29,\n",
       "        51,  54,  88,  44, 108, 125,  36,  60, 104,  96,   1, 119, 124,\n",
       "       100,  34,  90,  52,  57,  11,  19,  99,  82,   3,  49,  94,  25,\n",
       "         4,  24,  62,  67,  76,  69, 101, 120, 107,  81,  47,  85,  56,\n",
       "        43, 122, 110,  31,  89,  98, 111,  20,  77,  32,  83, 102,  27,\n",
       "        33,  21,  46, 121, 105,  16,  91,  14,   6,  84,  12], dtype=uint8)"
      ]
     },
     "execution_count": 7,
     "metadata": {},
     "output_type": "execute_result"
    }
   ],
   "source": [
    "pbox2 = np.array([i for i in range(128)], dtype=np.uint8)\n",
    "np.random.shuffle(pbox2)\n",
    "pbox2"
   ]
  },
  {
   "cell_type": "code",
   "execution_count": 8,
   "metadata": {},
   "outputs": [
    {
     "data": {
      "text/plain": [
       "array([ 39,  75,  46,  87,  91,  25, 125,  20,  52,  40,  17,  83, 127,\n",
       "        13, 124,  61, 122,  34,  56,  84, 111, 118,  55,  54,  92,  90,\n",
       "        22, 116,   3,  64,   6, 107, 113, 117,  79,  36,  71,  24,   9,\n",
       "        27,  42,  32,   1, 104,  68,  53, 119, 101,  44,  88,  63,  65,\n",
       "        81,  45,  66,   5, 103,  82,  26,  49,  72,  35,  93,  58,  50,\n",
       "        43,  48,  94,   0,  96,  28,  18,  62,  38,  15,  57,  95, 112,\n",
       "         8,  19,  33, 100,  86, 114, 126, 102,  10,  31,  67, 108,  80,\n",
       "       123,  51,  21,  89,   2,  74,  60, 109,  85,  78,  97, 115,  12,\n",
       "        73, 121,  41,  99,  69,  23, 106, 110,  29,  14,  47,   7,  16,\n",
       "         4,  30,  76,  98, 120, 105,  11,  77,  70,  59,  37], dtype=uint8)"
      ]
     },
     "execution_count": 8,
     "metadata": {},
     "output_type": "execute_result"
    }
   ],
   "source": [
    "pbox2_inv = np.zeros(128, dtype=np.uint8)\n",
    "for i in range(128):\n",
    "    pbox2_inv[pbox2[i]] = i\n",
    "pbox2_inv"
   ]
  },
  {
   "cell_type": "markdown",
   "metadata": {},
   "source": [
    "## Generating Random 4x4"
   ]
  },
  {
   "cell_type": "code",
   "execution_count": 41,
   "metadata": {},
   "outputs": [
    {
     "data": {
      "text/plain": [
       "array([[131, 147,  16,  66],\n",
       "       [131, 147,  16,  66],\n",
       "       [131, 147,  16,  66],\n",
       "       [131, 147,  16,  66]], dtype=uint8)"
      ]
     },
     "execution_count": 41,
     "metadata": {},
     "output_type": "execute_result"
    }
   ],
   "source": [
    "val = ([np.random.randint(0,255) for i in range(12)])\n",
    "multiplier = np.random.randint(0,255)\n",
    "val += [multiplier * np.random.randint(0,255) % 256 for i in range(4)]\n",
    "\n",
    "np.random.huffle(mat)\n",
    "mat.reshape((4,4))"
   ]
  },
  {
   "cell_type": "code",
   "execution_count": 31,
   "metadata": {},
   "outputs": [
    {
     "ename": "LinAlgError",
     "evalue": "Singular matrix",
     "output_type": "error",
     "traceback": [
      "\u001b[0;31m---------------------------------------------------------------------------\u001b[0m",
      "\u001b[0;31mLinAlgError\u001b[0m                               Traceback (most recent call last)",
      "Cell \u001b[0;32mIn[31], line 1\u001b[0m\n\u001b[0;32m----> 1\u001b[0m \u001b[43mnp\u001b[49m\u001b[38;5;241;43m.\u001b[39;49m\u001b[43mlinalg\u001b[49m\u001b[38;5;241;43m.\u001b[39;49m\u001b[43minv\u001b[49m\u001b[43m(\u001b[49m\u001b[43m[\u001b[49m\u001b[43m[\u001b[49m\u001b[38;5;241;43m1\u001b[39;49m\u001b[43m,\u001b[49m\u001b[38;5;241;43m2\u001b[39;49m\u001b[43m]\u001b[49m\u001b[43m,\u001b[49m\u001b[43m[\u001b[49m\u001b[38;5;241;43m1\u001b[39;49m\u001b[43m,\u001b[49m\u001b[38;5;241;43m2\u001b[39;49m\u001b[43m]\u001b[49m\u001b[43m]\u001b[49m\u001b[43m)\u001b[49m\n",
      "File \u001b[0;32m<__array_function__ internals>:200\u001b[0m, in \u001b[0;36minv\u001b[0;34m(*args, **kwargs)\u001b[0m\n",
      "File \u001b[0;32m/usr/lib64/python3.12/site-packages/numpy/linalg/linalg.py:538\u001b[0m, in \u001b[0;36minv\u001b[0;34m(a)\u001b[0m\n\u001b[1;32m    536\u001b[0m signature \u001b[38;5;241m=\u001b[39m \u001b[38;5;124m'\u001b[39m\u001b[38;5;124mD->D\u001b[39m\u001b[38;5;124m'\u001b[39m \u001b[38;5;28;01mif\u001b[39;00m isComplexType(t) \u001b[38;5;28;01melse\u001b[39;00m \u001b[38;5;124m'\u001b[39m\u001b[38;5;124md->d\u001b[39m\u001b[38;5;124m'\u001b[39m\n\u001b[1;32m    537\u001b[0m extobj \u001b[38;5;241m=\u001b[39m get_linalg_error_extobj(_raise_linalgerror_singular)\n\u001b[0;32m--> 538\u001b[0m ainv \u001b[38;5;241m=\u001b[39m \u001b[43m_umath_linalg\u001b[49m\u001b[38;5;241;43m.\u001b[39;49m\u001b[43minv\u001b[49m\u001b[43m(\u001b[49m\u001b[43ma\u001b[49m\u001b[43m,\u001b[49m\u001b[43m \u001b[49m\u001b[43msignature\u001b[49m\u001b[38;5;241;43m=\u001b[39;49m\u001b[43msignature\u001b[49m\u001b[43m,\u001b[49m\u001b[43m \u001b[49m\u001b[43mextobj\u001b[49m\u001b[38;5;241;43m=\u001b[39;49m\u001b[43mextobj\u001b[49m\u001b[43m)\u001b[49m\n\u001b[1;32m    539\u001b[0m \u001b[38;5;28;01mreturn\u001b[39;00m wrap(ainv\u001b[38;5;241m.\u001b[39mastype(result_t, copy\u001b[38;5;241m=\u001b[39m\u001b[38;5;28;01mFalse\u001b[39;00m))\n",
      "File \u001b[0;32m/usr/lib64/python3.12/site-packages/numpy/linalg/linalg.py:89\u001b[0m, in \u001b[0;36m_raise_linalgerror_singular\u001b[0;34m(err, flag)\u001b[0m\n\u001b[1;32m     88\u001b[0m \u001b[38;5;28;01mdef\u001b[39;00m \u001b[38;5;21m_raise_linalgerror_singular\u001b[39m(err, flag):\n\u001b[0;32m---> 89\u001b[0m     \u001b[38;5;28;01mraise\u001b[39;00m LinAlgError(\u001b[38;5;124m\"\u001b[39m\u001b[38;5;124mSingular matrix\u001b[39m\u001b[38;5;124m\"\u001b[39m)\n",
      "\u001b[0;31mLinAlgError\u001b[0m: Singular matrix"
     ]
    }
   ],
   "source": [
    "np.linalg.inv([[1,2],[1,2]])"
   ]
  }
 ],
 "metadata": {
  "kernelspec": {
   "display_name": "Python 3",
   "language": "python",
   "name": "python3"
  },
  "language_info": {
   "codemirror_mode": {
    "name": "ipython",
    "version": 3
   },
   "file_extension": ".py",
   "mimetype": "text/x-python",
   "name": "python",
   "nbconvert_exporter": "python",
   "pygments_lexer": "ipython3",
   "version": "3.12.2"
  }
 },
 "nbformat": 4,
 "nbformat_minor": 2
}
